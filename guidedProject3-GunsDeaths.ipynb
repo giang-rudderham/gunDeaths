{
 "cells": [
  {
   "cell_type": "code",
   "execution_count": 1,
   "metadata": {
    "collapsed": false
   },
   "outputs": [
    {
     "name": "stdout",
     "output_type": "stream",
     "text": [
      "[['', 'year', 'month', 'intent', 'police', 'sex', 'age', 'race', 'hispanic', 'place', 'education'], ['1', '2012', '01', 'Suicide', '0', 'M', '34', 'Asian/Pacific Islander', '100', 'Home', '4'], ['2', '2012', '01', 'Suicide', '0', 'F', '21', 'White', '100', 'Street', '3'], ['3', '2012', '01', 'Suicide', '0', 'M', '60', 'White', '100', 'Other specified', '4'], ['4', '2012', '02', 'Suicide', '0', 'M', '64', 'White', '100', 'Home', '4']]\n"
     ]
    }
   ],
   "source": [
    "import csv\n",
    "f = open(\"guns.csv\")\n",
    "data = list(csv.reader(f))\n",
    "print(data[0:5])"
   ]
  },
  {
   "cell_type": "code",
   "execution_count": 2,
   "metadata": {
    "collapsed": false
   },
   "outputs": [
    {
     "name": "stdout",
     "output_type": "stream",
     "text": [
      "['', 'year', 'month', 'intent', 'police', 'sex', 'age', 'race', 'hispanic', 'place', 'education']\n",
      "[['1', '2012', '01', 'Suicide', '0', 'M', '34', 'Asian/Pacific Islander', '100', 'Home', '4'], ['2', '2012', '01', 'Suicide', '0', 'F', '21', 'White', '100', 'Street', '3'], ['3', '2012', '01', 'Suicide', '0', 'M', '60', 'White', '100', 'Other specified', '4'], ['4', '2012', '02', 'Suicide', '0', 'M', '64', 'White', '100', 'Home', '4'], ['5', '2012', '02', 'Suicide', '0', 'M', '31', 'White', '100', 'Other specified', '2']]\n"
     ]
    }
   ],
   "source": [
    "headers = data[0]\n",
    "data_no_header = data[1:len(data)]\n",
    "print(headers)\n",
    "print(data_no_header[0:5])"
   ]
  },
  {
   "cell_type": "code",
   "execution_count": 3,
   "metadata": {
    "collapsed": false
   },
   "outputs": [
    {
     "name": "stdout",
     "output_type": "stream",
     "text": [
      "{'2013': 33636, '2012': 33563, '2014': 33599}\n"
     ]
    }
   ],
   "source": [
    "years = [i[1] for i in data_no_header]\n",
    "year_counts = {}\n",
    "for i in years:\n",
    "    if i in year_counts:\n",
    "        year_counts[i] += 1\n",
    "    else:\n",
    "        year_counts[i] = 1\n",
    "print(year_counts)"
   ]
  },
  {
   "cell_type": "code",
   "execution_count": 4,
   "metadata": {
    "collapsed": false
   },
   "outputs": [
    {
     "name": "stdout",
     "output_type": "stream",
     "text": [
      "[datetime.datetime(2012, 1, 1, 0, 0), datetime.datetime(2012, 1, 1, 0, 0), datetime.datetime(2012, 1, 1, 0, 0), datetime.datetime(2012, 2, 1, 0, 0), datetime.datetime(2012, 2, 1, 0, 0)]\n"
     ]
    }
   ],
   "source": [
    "import datetime\n",
    "dates = [datetime.datetime(year = int(i[1]), month = int(i[2]), day = 1) for i in data_no_header]\n",
    "print(dates[0:5])"
   ]
  },
  {
   "cell_type": "code",
   "execution_count": 5,
   "metadata": {
    "collapsed": false
   },
   "outputs": [
    {
     "name": "stdout",
     "output_type": "stream",
     "text": [
      "{datetime.datetime(2014, 1, 1, 0, 0): 2651, datetime.datetime(2012, 1, 1, 0, 0): 2758, datetime.datetime(2012, 4, 1, 0, 0): 2795, datetime.datetime(2012, 12, 1, 0, 0): 2791, datetime.datetime(2014, 9, 1, 0, 0): 2914, datetime.datetime(2013, 6, 1, 0, 0): 2920, datetime.datetime(2013, 11, 1, 0, 0): 2758, datetime.datetime(2012, 5, 1, 0, 0): 2999, datetime.datetime(2014, 11, 1, 0, 0): 2756, datetime.datetime(2012, 8, 1, 0, 0): 2954, datetime.datetime(2012, 6, 1, 0, 0): 2826, datetime.datetime(2014, 4, 1, 0, 0): 2862, datetime.datetime(2013, 9, 1, 0, 0): 2742, datetime.datetime(2012, 10, 1, 0, 0): 2733, datetime.datetime(2013, 1, 1, 0, 0): 2864, datetime.datetime(2014, 12, 1, 0, 0): 2857, datetime.datetime(2013, 2, 1, 0, 0): 2375, datetime.datetime(2013, 10, 1, 0, 0): 2808, datetime.datetime(2012, 3, 1, 0, 0): 2743, datetime.datetime(2012, 7, 1, 0, 0): 3026, datetime.datetime(2014, 6, 1, 0, 0): 2931, datetime.datetime(2012, 2, 1, 0, 0): 2357, datetime.datetime(2013, 7, 1, 0, 0): 3079, datetime.datetime(2014, 3, 1, 0, 0): 2684, datetime.datetime(2014, 8, 1, 0, 0): 2970, datetime.datetime(2014, 2, 1, 0, 0): 2361, datetime.datetime(2013, 8, 1, 0, 0): 2859, datetime.datetime(2013, 12, 1, 0, 0): 2765, datetime.datetime(2014, 10, 1, 0, 0): 2865, datetime.datetime(2013, 3, 1, 0, 0): 2862, datetime.datetime(2012, 9, 1, 0, 0): 2852, datetime.datetime(2014, 7, 1, 0, 0): 2884, datetime.datetime(2014, 5, 1, 0, 0): 2864, datetime.datetime(2012, 11, 1, 0, 0): 2729, datetime.datetime(2013, 4, 1, 0, 0): 2798, datetime.datetime(2013, 5, 1, 0, 0): 2806}\n"
     ]
    }
   ],
   "source": [
    "date_counts = {}\n",
    "for i in dates:\n",
    "    if i in date_counts:\n",
    "        date_counts[i] += 1\n",
    "    else:\n",
    "        date_counts[i] = 1\n",
    "print(date_counts)"
   ]
  },
  {
   "cell_type": "markdown",
   "metadata": {
    "collapsed": true
   },
   "source": [
    "## Exploring Gun Deaths By Race"
   ]
  },
  {
   "cell_type": "code",
   "execution_count": 6,
   "metadata": {
    "collapsed": false
   },
   "outputs": [
    {
     "name": "stdout",
     "output_type": "stream",
     "text": [
      "{'M': 86349, 'F': 14449}\n"
     ]
    }
   ],
   "source": [
    "sex = [i[5] for i in data_no_header]\n",
    "sex_counts = {}\n",
    "for i in sex:\n",
    "    if i in sex_counts:\n",
    "        sex_counts[i] += 1\n",
    "    else:\n",
    "        sex_counts[i] = 1\n",
    "print(sex_counts)"
   ]
  },
  {
   "cell_type": "markdown",
   "metadata": {},
   "source": [
    "## Exploring Gun Deaths By Race"
   ]
  },
  {
   "cell_type": "code",
   "execution_count": 7,
   "metadata": {
    "collapsed": false
   },
   "outputs": [
    {
     "name": "stdout",
     "output_type": "stream",
     "text": [
      "{'Black': 23296, 'Hispanic': 9022, 'Asian/Pacific Islander': 1326, 'Native American/Native Alaskan': 917, 'White': 66237}\n"
     ]
    }
   ],
   "source": [
    "race = [i[7] for i in data_no_header]\n",
    "race_counts = {}\n",
    "for i in race:\n",
    "    if i in race_counts:\n",
    "        race_counts[i] += 1\n",
    "    else:\n",
    "        race_counts[i] = 1\n",
    "print(race_counts)"
   ]
  },
  {
   "cell_type": "markdown",
   "metadata": {},
   "source": [
    "## Census data on race"
   ]
  },
  {
   "cell_type": "code",
   "execution_count": 8,
   "metadata": {
    "collapsed": false
   },
   "outputs": [
    {
     "name": "stdout",
     "output_type": "stream",
     "text": [
      "[['Id', 'Year', 'Id', 'Sex', 'Id', 'Hispanic Origin', 'Id', 'Id2', 'Geography', 'Total', 'Race Alone - White', 'Race Alone - Hispanic', 'Race Alone - Black or African American', 'Race Alone - American Indian and Alaska Native', 'Race Alone - Asian', 'Race Alone - Native Hawaiian and Other Pacific Islander', 'Two or More Races'], ['cen42010', 'April 1, 2010 Census', 'totsex', 'Both Sexes', 'tothisp', 'Total', '0100000US', '', 'United States', '308745538', '197318956', '44618105', '40250635', '3739506', '15159516', '674625', '6984195']]\n"
     ]
    }
   ],
   "source": [
    "file = open(\"census.csv\")\n",
    "census = list(csv.reader(file))\n",
    "print(census)"
   ]
  },
  {
   "cell_type": "code",
   "execution_count": 9,
   "metadata": {
    "collapsed": false
   },
   "outputs": [],
   "source": [
    "mapping = {\"Asian/Pacific Islander\" : 15159516 + 674625, \n",
    "           \"Black\" : 40250635, \n",
    "           \"Native American/Native Alaskan\" : 3739506, \n",
    "           \"Hispanic\" : 44618105, \n",
    "           \"White\" : 197318956}"
   ]
  },
  {
   "cell_type": "code",
   "execution_count": 10,
   "metadata": {
    "collapsed": false
   },
   "outputs": [
    {
     "name": "stdout",
     "output_type": "stream",
     "text": [
      "{'White': 197318956, 'Black': 40250635, 'Asian/Pacific Islander': 15834141, 'Native American/Native Alaskan': 3739506, 'Hispanic': 44618105}\n"
     ]
    }
   ],
   "source": [
    "print(mapping)"
   ]
  },
  {
   "cell_type": "code",
   "execution_count": 11,
   "metadata": {
    "collapsed": false
   },
   "outputs": [
    {
     "name": "stdout",
     "output_type": "stream",
     "text": [
      "{'Native American/Native Alaskan': 24.521955573811088, 'Black': 57.8773477735196, 'Asian/Pacific Islander': 8.374309664161762, 'Hispanic': 20.220491210910907, 'White': 33.56849303419181}\n"
     ]
    }
   ],
   "source": [
    "race_per_hundredk = {}\n",
    "for i in race_counts:\n",
    "    race_per_hundredk[i] = (race_counts[i] / mapping[i]) * 100000\n",
    "print(race_per_hundredk)"
   ]
  },
  {
   "cell_type": "code",
   "execution_count": 12,
   "metadata": {
    "collapsed": false
   },
   "outputs": [
    {
     "name": "stdout",
     "output_type": "stream",
     "text": [
      "{'Black': 19510, 'Hispanic': 5634, 'Asian/Pacific Islander': 559, 'Native American/Native Alaskan': 326, 'White': 9147}\n"
     ]
    }
   ],
   "source": [
    "intents = [i[3] for i in data_no_header]\n",
    "races = [i[7] for i in data_no_header]\n",
    "homicide_race_per_hundredk = {}\n",
    "\n",
    "for i, race in enumerate(races):\n",
    "    if intents[i] == \"Homicide\":\n",
    "        if race in homicide_race_per_hundredk:\n",
    "            homicide_race_per_hundredk[race] += 1\n",
    "        else:\n",
    "            homicide_race_per_hundredk[race] = 1\n",
    "print(homicide_race_per_hundredk)\n"
   ]
  },
  {
   "cell_type": "code",
   "execution_count": 14,
   "metadata": {
    "collapsed": false
   },
   "outputs": [
    {
     "name": "stdout",
     "output_type": "stream",
     "text": [
      "{'Black': 0.12042365291176386, 'Hispanic': 0.028300532046844913, 'Asian/Pacific Islander': 0.022295786244231088, 'Native American/Native Alaskan': 0.23312515145691343, 'White': 0.002349313969685373}\n"
     ]
    }
   ],
   "source": [
    "for i in homicide_race_per_hundredk:\n",
    "    homicide_race_per_hundredk[i] = (homicide_race_per_hundredk[i] / mapping[i]) * 100000\n",
    "print(homicide_race_per_hundredk)    "
   ]
  },
  {
   "cell_type": "code",
   "execution_count": null,
   "metadata": {
    "collapsed": true
   },
   "outputs": [],
   "source": []
  }
 ],
 "metadata": {
  "kernelspec": {
   "display_name": "Python 3",
   "language": "python",
   "name": "python3"
  },
  "language_info": {
   "codemirror_mode": {
    "name": "ipython",
    "version": 3
   },
   "file_extension": ".py",
   "mimetype": "text/x-python",
   "name": "python",
   "nbconvert_exporter": "python",
   "pygments_lexer": "ipython3",
   "version": "3.4.3"
  }
 },
 "nbformat": 4,
 "nbformat_minor": 0
}
